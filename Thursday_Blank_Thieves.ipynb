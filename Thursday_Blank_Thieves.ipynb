{
 "cells": [
  {
   "attachments": {},
   "cell_type": "markdown",
   "metadata": {},
   "source": [
    "# Object-Oriented-Programming (OOP)"
   ]
  },
  {
   "attachments": {},
   "cell_type": "markdown",
   "metadata": {},
   "source": [
    "## Tasks Today:\n",
    "\n",
    "   \n",
    "\n",
    "1) <b>Creating a Class (Initializing/Declaring)</b> <br>\n",
    "2) <b>Using a Class (Instantiating)</b> <br>\n",
    " &nbsp;&nbsp;&nbsp;&nbsp; a) Creating One Instance <br>\n",
    " &nbsp;&nbsp;&nbsp;&nbsp; b) Creating Multiple Instances <br>\n",
    " &nbsp;&nbsp;&nbsp;&nbsp; c) In-Class Exercise #1 - Create a Class 'Car' and instantiate three different makes of cars <br>\n",
    "3) <b>The \\__init\\__() Method</b> <br>\n",
    " &nbsp;&nbsp;&nbsp;&nbsp; a) The 'self' Attribute <br>\n",
    "4) <b>Class Attributes</b> <br>\n",
    " &nbsp;&nbsp;&nbsp;&nbsp; a) Initializing Attributes <br>\n",
    " &nbsp;&nbsp;&nbsp;&nbsp; b) Setting an Attribute Outside of the \\__init\\__() Method <br>\n",
    " &nbsp;&nbsp;&nbsp;&nbsp; c) Setting Defaults for Attributes <br>\n",
    " &nbsp;&nbsp;&nbsp;&nbsp; d) Accessing Class Attributes <br>\n",
    " &nbsp;&nbsp;&nbsp;&nbsp; e) Changing Class Attributes <br>\n",
    " &nbsp;&nbsp;&nbsp;&nbsp; f) In-Class Exercise #2 - Add a color and wheels attribute to your 'Car' class <br>\n",
    "5) <b>Class Methods</b> <br>\n",
    " &nbsp;&nbsp;&nbsp;&nbsp; a) Creating <br>\n",
    " &nbsp;&nbsp;&nbsp;&nbsp; b) Calling <br>\n",
    " &nbsp;&nbsp;&nbsp;&nbsp; c) Modifying an Attribute's Value Through a Method <br>\n",
    " &nbsp;&nbsp;&nbsp;&nbsp; d) Incrementing an Attribute's Value Through a Method <br>\n",
    " &nbsp;&nbsp;&nbsp;&nbsp; e) In-Class Exercise #3 - Add a method that prints the cars color and wheel number, then call them <br>\n",
    "6) <b>Inheritance</b> <br>\n",
    " &nbsp;&nbsp;&nbsp;&nbsp; a) Syntax for Inheriting from a Parent Class <br>\n",
    " &nbsp;&nbsp;&nbsp;&nbsp; b) The \\__init\\__() Method for a Child Class (super()) <br>\n",
    " &nbsp;&nbsp;&nbsp;&nbsp; c) Defining Attributes and Methods for the Child Class <br>\n",
    " &nbsp;&nbsp;&nbsp;&nbsp; d) Method Overriding <br>\n",
    " &nbsp;&nbsp;&nbsp;&nbsp; e) In-Class Exercise #4 - Create a class 'Ford' that inherits from 'Car' class and initialize it as a Blue Ford Explorer with 4 wheels using the super() method <br>\n",
    "7) <b>Classes as Attributes</b> <br>\n",
    "8) <b>Exercises</b> <br>\n",
    " &nbsp;&nbsp;&nbsp;&nbsp; a) Exercise #1 - Turn the shopping cart program from yesterday into an object-oriented program <br>"
   ]
  },
  {
   "attachments": {},
   "cell_type": "markdown",
   "metadata": {},
   "source": [
    "## Creating a Class (Initializing/Declaring)\n",
    "<p>When creating a class, function, or even a variable you are initializing that object. Initializing and Declaring occur at the same time in Python, whereas in lower level languages you have to declare an object before initializing it. This is the first step in the process of using a class.</p>"
   ]
  },
  {
   "cell_type": "code",
   "execution_count": 1,
   "metadata": {},
   "outputs": [],
   "source": [
    "class Car():\n",
    "    wheel = 4\n",
    "    color = 'blue'\n",
    "    \n",
    "\n"
   ]
  },
  {
   "attachments": {},
   "cell_type": "markdown",
   "metadata": {},
   "source": [
    "## Using a Class (Instantiating)\n",
    "<p>The process of creating a class is called <i>Instantiating</i>. Each time you create a variable of that type of class, it is referred to as an <i>Instance</i> of that class. This is the second step in the process of using a class.</p>"
   ]
  },
  {
   "attachments": {},
   "cell_type": "markdown",
   "metadata": {},
   "source": [
    "##### Creating One Instance"
   ]
  },
  {
   "cell_type": "code",
   "execution_count": 4,
   "metadata": {},
   "outputs": [
    {
     "name": "stdout",
     "output_type": "stream",
     "text": [
      "blue\n"
     ]
    }
   ],
   "source": [
    "ford = Car()\n",
    "\n",
    "print(ford.color)"
   ]
  },
  {
   "attachments": {},
   "cell_type": "markdown",
   "metadata": {},
   "source": [
    "##### Creating Multiple Instances"
   ]
  },
  {
   "cell_type": "code",
   "execution_count": 5,
   "metadata": {},
   "outputs": [
    {
     "name": "stdout",
     "output_type": "stream",
     "text": [
      "blue\n"
     ]
    }
   ],
   "source": [
    "nissan = Car()\n",
    "chevy = Car()\n",
    "honda = Car()\n",
    "\n",
    "print(nissan.color)"
   ]
  },
  {
   "attachments": {},
   "cell_type": "markdown",
   "metadata": {},
   "source": [
    "##### In-Class Exercise #1 - Create a Class 'Car' and Instantiate three different makes of cars"
   ]
  },
  {
   "cell_type": "code",
   "execution_count": 6,
   "metadata": {},
   "outputs": [],
   "source": [
    "class Car():\n",
    "    color = 'red'\n",
    "    doors = 4\n",
    "\n",
    "hyundai = Car()\n",
    "toyota = Car()\n",
    "tesla = Car()"
   ]
  },
  {
   "attachments": {},
   "cell_type": "markdown",
   "metadata": {},
   "source": [
    "## The \\__init\\__() Method <br>\n",
    "<p>This method is used in almost every created class, and called only once upon the creation of the class instance. This method will initialize all variables needed for the object.</p>"
   ]
  },
  {
   "cell_type": "code",
   "execution_count": null,
   "metadata": {},
   "outputs": [],
   "source": [
    "class Car():\n",
    "    wheels = 4  #Class Attributes\n",
    "    def __init__(self, make, model, color, engine): #Instance Attributes\n",
    "        self.make = make\n",
    "        self.model = model\n",
    "        self.color = color\n",
    "        self.engine = engine\n",
    "\n",
    "nissan = Car('Nissan', 'Altima', 'grey', 'v4')\n",
    "chevy = Car('Chevrolet', 'Silverado', 'Black', 'v8')\n",
    "\n",
    "\n",
    "#Accessing Instance Attributes\n",
    "print(nissan.color)\n",
    "print(chevy.engine)\n",
    "\n",
    "#Acessing Class Attributes\n",
    "print(nissan.wheels)"
   ]
  },
  {
   "attachments": {},
   "cell_type": "markdown",
   "metadata": {},
   "source": [
    "##### The 'self' Attribute <br>\n",
    "<p>This attribute is required to keep track of specific instance's attributes. Without the self attribute, the program would not know how to reference or keep track of an instance's attributes.</p>"
   ]
  },
  {
   "cell_type": "code",
   "execution_count": null,
   "metadata": {},
   "outputs": [],
   "source": [
    "# see above"
   ]
  },
  {
   "attachments": {},
   "cell_type": "markdown",
   "metadata": {},
   "source": [
    "## Class Attributes <br>\n",
    "<p>While variables are inside of a class, they are referred to as attributes and not variables. When someone says 'attribute' you know they're speaking about a class. Attributes can be initialized through the init method, or outside of it.</p>"
   ]
  },
  {
   "attachments": {},
   "cell_type": "markdown",
   "metadata": {},
   "source": [
    "##### Initializing Attributes"
   ]
  },
  {
   "cell_type": "code",
   "execution_count": null,
   "metadata": {},
   "outputs": [],
   "source": [
    "# see above"
   ]
  },
  {
   "attachments": {},
   "cell_type": "markdown",
   "metadata": {},
   "source": [
    "##### Accessing Class Attributes"
   ]
  },
  {
   "cell_type": "code",
   "execution_count": null,
   "metadata": {
    "scrolled": true
   },
   "outputs": [],
   "source": [
    "# See Above"
   ]
  },
  {
   "attachments": {},
   "cell_type": "markdown",
   "metadata": {},
   "source": [
    "##### Setting Defaults for Attributes"
   ]
  },
  {
   "cell_type": "code",
   "execution_count": 11,
   "metadata": {},
   "outputs": [
    {
     "name": "stdout",
     "output_type": "stream",
     "text": [
      "4\n",
      "2\n"
     ]
    }
   ],
   "source": [
    "class vehicle():\n",
    "\n",
    "    def __init__(self, make, model, classification, wheels=4):\n",
    "        self.make = make\n",
    "        self.model = model\n",
    "        self.classification = classification\n",
    "        self.wheels = wheels\n",
    "\n",
    "\n",
    "my_car = vehicle('Hyundai', 'Sonata', 'Sedan')\n",
    "\n",
    "my_car.classification = 'sedan'\n",
    "\n",
    "print(my_car.wheels)\n",
    "\n",
    "motorcycle = vehicle('Suzuki', 'bxr500', 'motorcycle', 2)\n",
    "print(motorcycle.wheels)"
   ]
  },
  {
   "attachments": {},
   "cell_type": "markdown",
   "metadata": {},
   "source": [
    "##### Changing Instance Attributes <br>\n",
    "<p>Keep in mind there are global class attributes and then there are attributes only available to each class instance which won't effect other classes.</p>"
   ]
  },
  {
   "cell_type": "code",
   "execution_count": null,
   "metadata": {},
   "outputs": [],
   "source": [
    "# see above"
   ]
  },
  {
   "attachments": {},
   "cell_type": "markdown",
   "metadata": {},
   "source": [
    "##### In-Class Exercise #2 - Add a doors and seats attribute to your 'Car' class then print out two different instances with different doors and seats"
   ]
  },
  {
   "cell_type": "code",
   "execution_count": 17,
   "metadata": {},
   "outputs": [
    {
     "name": "stdout",
     "output_type": "stream",
     "text": [
      "{'doors': 2, 'seats': 5}\n",
      "{'doors': 4, 'seats': 6}\n"
     ]
    }
   ],
   "source": [
    "class Car():\n",
    "    color = 'red'\n",
    "    windows = 4\n",
    "    def __init__(self, doors, seats=2):\n",
    "        self.doors = doors\n",
    "        self.seats = seats\n",
    "\n",
    "\n",
    "hyundai = Car(4, 5)\n",
    "toyota = Car(4, 6)\n",
    "\n",
    "\n",
    "hyundai.doors = 2\n",
    "\n",
    "print(hyundai.__dict__)\n",
    "print(toyota.__dict__)\n"
   ]
  },
  {
   "attachments": {},
   "cell_type": "markdown",
   "metadata": {},
   "source": [
    "## Class Methods <br>\n",
    "<p>While inside of a class, functions are referred to as 'methods'. If you hear someone mention methods, they're speaking about classes. Methods are essentially functions, but only callable on the instances of a class.</p>"
   ]
  },
  {
   "attachments": {},
   "cell_type": "markdown",
   "metadata": {},
   "source": [
    "##### Creating"
   ]
  },
  {
   "cell_type": "code",
   "execution_count": 21,
   "metadata": {},
   "outputs": [
    {
     "name": "stdout",
     "output_type": "stream",
     "text": [
      "My name is Dylan Katina, I am 57 and have brown eyes.\n",
      "Name successfully changed to Hurricane\n",
      "Hurricane\n",
      "Happy birthday, you're now 58 years old\n"
     ]
    }
   ],
   "source": [
    "class Person():\n",
    "\n",
    "    def __init__(self, name, age, eyecolor='brown'):\n",
    "        self.name = name\n",
    "        self.age = age\n",
    "        self.eyecolor = eyecolor\n",
    "\n",
    "    def get_info(self):\n",
    "        return f\"My name is {self.name}, I am {self.age} and have {self.eyecolor} eyes.\"\n",
    "    \n",
    "    def name_change(self, newname):\n",
    "        self.name = newname\n",
    "        return f\"Name successfully changed to {self.name}\"\n",
    "    \n",
    "    def birthday(self):\n",
    "        self.age += 1\n",
    "        return f\"Happy birthday, you're now {self.age} years old\"\n",
    "    \n",
    "dylan = Person(\"Dylan Katina\", 57)\n",
    "\n",
    "# Calling my get_info method\n",
    "print(dylan.get_info())\n",
    "\n",
    "# Modifying attributes with a method\n",
    "print(dylan.name_change('Hurricane'))\n",
    "print(dylan.name)\n",
    "\n",
    "\n",
    "# Increment attribute with a method\n",
    "print(dylan.birthday())"
   ]
  },
  {
   "attachments": {},
   "cell_type": "markdown",
   "metadata": {},
   "source": [
    "##### Calling"
   ]
  },
  {
   "cell_type": "code",
   "execution_count": null,
   "metadata": {},
   "outputs": [],
   "source": [
    "# See Above"
   ]
  },
  {
   "attachments": {},
   "cell_type": "markdown",
   "metadata": {},
   "source": [
    "##### Modifying an Attribute's Value Through a Method"
   ]
  },
  {
   "cell_type": "code",
   "execution_count": null,
   "metadata": {},
   "outputs": [],
   "source": [
    "# see above\n"
   ]
  },
  {
   "attachments": {},
   "cell_type": "markdown",
   "metadata": {},
   "source": [
    "##### Incrementing an Attribute's Value Through a Method"
   ]
  },
  {
   "cell_type": "code",
   "execution_count": null,
   "metadata": {},
   "outputs": [],
   "source": [
    "# see above\n"
   ]
  },
  {
   "attachments": {},
   "cell_type": "markdown",
   "metadata": {},
   "source": [
    "## Inheritance <br>\n",
    "<p>You can create a child-parent relationship between two classes by using inheritance. What this allows you to do is have overriding methods, but also inherit traits from the parent class. Think of it as an actual parent and child, the child will inherit the parent's genes, as will the classes in OOP</p>"
   ]
  },
  {
   "attachments": {},
   "cell_type": "markdown",
   "metadata": {},
   "source": [
    "##### Syntax for Inheriting from a Parent Class"
   ]
  },
  {
   "cell_type": "code",
   "execution_count": null,
   "metadata": {},
   "outputs": [],
   "source": [
    "class Mammals():\n",
    "    fur = True\n",
    "    def __init__(self, fur_color, species, legs=4):\n",
    "        self.fur_color = fur_color\n",
    "        self.species = species\n",
    "        self.legs = legs\n",
    "\n",
    "\n",
    "    def breath(self):\n",
    "        print('I love breathing air')\n",
    "\n",
    "\n",
    "# Child\n",
    "\n",
    "class Dog(Mammal):\n",
    "    def __init__(self, name, breed, fur_color, legs=4):\n",
    "        super().__init__(fur_color, legs)                     # Initialize class...          # saves times (takes from above - Mammals)\n",
    "        self.name = name\n",
    "        self.breed = breed\n",
    "\n",
    "    def greet(self):\n",
    "        return f\"Hello, my name is {self.name}, I'm a {self.fur_color} {self.breed}  and I have {self.legs} legs\"\n",
    "    \n",
    "\n",
    "my_dog = Dog('Rhia', 'Staffy (pitbull)', 'Blue')\n",
    "\n",
    "print(my_dog.greet())\n",
    "print(my_dog.breath())"
   ]
  },
  {
   "attachments": {},
   "cell_type": "markdown",
   "metadata": {},
   "source": [
    "##### The \\__init\\__() Method for a Child Class - super()"
   ]
  },
  {
   "cell_type": "code",
   "execution_count": null,
   "metadata": {
    "scrolled": true
   },
   "outputs": [],
   "source": [
    "# see above"
   ]
  },
  {
   "attachments": {},
   "cell_type": "markdown",
   "metadata": {},
   "source": [
    "##### Defining Attributes and Methods for the Child Class"
   ]
  },
  {
   "cell_type": "code",
   "execution_count": null,
   "metadata": {},
   "outputs": [],
   "source": [
    "# See Above"
   ]
  },
  {
   "attachments": {},
   "cell_type": "markdown",
   "metadata": {},
   "source": [
    "## Classes as Attributes <br>\n",
    "<p>Classes can also be used as attributes within another class. This is useful in situations where you need to keep variables locally stored, instead of globally stored.</p>"
   ]
  },
  {
   "cell_type": "code",
   "execution_count": null,
   "metadata": {},
   "outputs": [],
   "source": [
    "class Engine():\n",
    "    def __init__(self, engine):\n",
    "        self.engine = engine\n",
    "\n",
    "v8 = Engine('V8')\n",
    "v6 = Engine('V6')\n",
    "\n",
    "v4 = Engine('V4')\n",
    "\n",
    "class Car():\n",
    "    def __init__(self, make, model, engine):\n",
    "        self.make = make\n",
    "        self.model = model\n",
    "        self.engine = engine\n",
    "\n",
    "    def getInfo(self):\n",
    "        print(f\"I have a {self.engine} engine under the hood.\")\n",
    "\n",
    "\n",
    "my_car = Car('Hyundai', 'Sonata', v4.engine)\n",
    "\n",
    "print(my_car.getInfo())"
   ]
  },
  {
   "attachments": {},
   "cell_type": "markdown",
   "metadata": {},
   "source": [
    "# Exercises"
   ]
  },
  {
   "attachments": {},
   "cell_type": "markdown",
   "metadata": {},
   "source": [
    "### Exercise 1 - Turn the shopping cart program from yesterday into an object-oriented program\n",
    "\n",
    "The comments in the cell below are there as a guide for thinking about the problem. However, if you feel a different way is best for you and your own thought process, please do what feels best for you by all means."
   ]
  },
  {
   "cell_type": "code",
   "execution_count": 6,
   "metadata": {},
   "outputs": [
    {
     "name": "stdout",
     "output_type": "stream",
     "text": [
      "Welcome to the shopping cart simulator!\n",
      "Invalid Response... Please type \"show\", \"add to\", \"delete\", or \"quit\"\n",
      "Invalid Response... Please type \"show\", \"add to\", \"delete\", or \"quit\"\n",
      "Here is your shopping cart ready for checkout...\n",
      "4 apples\n",
      "3 bread\n"
     ]
    }
   ],
   "source": [
    "# Create a class called cart that retains items and has methods to add, remove, and show\n",
    "\n",
    "# so we can create cart objects\n",
    "\n",
    "class ShoppingCart():\n",
    "    \"\"\"Simulate a shopping cart.\"\"\"\n",
    "\n",
    "    def __init__(self):\n",
    "        self.cart = {}\n",
    "\n",
    "    def show(self):\n",
    "        print(self.cart)\n",
    "\n",
    "    def add_to(self):\n",
    "        new_item = input(\"What do you want to add?\")\n",
    "        new_amount = input(\"And how many?\")\n",
    "        self.cart[new_item] = new_amount\n",
    "\n",
    "    def delete(self):\n",
    "        delete_this = input(\"What item do you want to delete?\")\n",
    "        del self.cart[delete_this]\n",
    "\n",
    "    # runner method\n",
    "    def runner(self):\n",
    "        print(\"Welcome to the shopping cart simulator!\")\n",
    "        while True:\n",
    "            response = input(\"Do you want to... Show, Add to, Delete or Quit?\")\n",
    "            response = response.lower()\n",
    "\n",
    "            if response == 'show':\n",
    "                self.show()\n",
    "            elif response == 'add to':\n",
    "                self.add_to()\n",
    "                continue\n",
    "            elif response == 'delete':\n",
    "                self.delete()\n",
    "                continue\n",
    "            elif response == 'quit':\n",
    "                break\n",
    "            else:\n",
    "                print('Invalid Response... Please type \"show\", \"add to\", \"delete\", or \"quit\"')\n",
    "        \n",
    "        print(\"Here is your shopping cart ready for checkout...\")\n",
    "        for key, value in self.cart.items():\n",
    "            print(value, key)\n",
    "\n",
    "\n",
    "\n",
    "my_cart = ShoppingCart()\n",
    "\n",
    "my_cart.runner()"
   ]
  },
  {
   "attachments": {},
   "cell_type": "markdown",
   "metadata": {},
   "source": [
    "### Exercise 2 - Write a Python class which has two methods get_String and print_String. get_String accept a string from the user and print_String print the string in upper case"
   ]
  },
  {
   "cell_type": "code",
   "execution_count": null,
   "metadata": {},
   "outputs": [],
   "source": []
  }
 ],
 "metadata": {
  "kernelspec": {
   "display_name": "Python 3",
   "language": "python",
   "name": "python3"
  },
  "language_info": {
   "codemirror_mode": {
    "name": "ipython",
    "version": 3
   },
   "file_extension": ".py",
   "mimetype": "text/x-python",
   "name": "python",
   "nbconvert_exporter": "python",
   "pygments_lexer": "ipython3",
   "version": "3.11.1"
  },
  "vscode": {
   "interpreter": {
    "hash": "aa82987a71ca0339a52998cd22613b0c002bda8349fa32a0cb67ceec3936a2bf"
   }
  }
 },
 "nbformat": 4,
 "nbformat_minor": 2
}
